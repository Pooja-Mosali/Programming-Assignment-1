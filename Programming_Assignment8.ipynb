{
 "cells": [
  {
   "cell_type": "code",
   "execution_count": 15,
   "id": "3ccada07-5c40-40c6-a6d3-3c54287b1540",
   "metadata": {},
   "outputs": [
    {
     "name": "stdin",
     "output_type": "stream",
     "text": [
      "Enter a number: 2\n"
     ]
    },
    {
     "name": "stdout",
     "output_type": "stream",
     "text": [
      "2 is a prime number\n"
     ]
    }
   ],
   "source": [
    "#Write a python program to check prime number.\n",
    "\n",
    "num1=int(input(\"Enter a number:\"))\n",
    "if num1 > 1:\n",
    "    for i in range(2,num1):\n",
    "        if(num1%i)==0:\n",
    "            print(num1, 'is not a prime')\n",
    "            break\n",
    "    else:\n",
    "         print(num1, 'is a prime number')\n",
    "else:\n",
    "    print(\"number is less than 1\")\n",
    "\n"
   ]
  },
  {
   "cell_type": "code",
   "execution_count": 17,
   "id": "e4566dec-c3eb-4be7-917c-4d0bcdfaee50",
   "metadata": {},
   "outputs": [
    {
     "name": "stdin",
     "output_type": "stream",
     "text": [
      "Enter a number: 4\n"
     ]
    },
    {
     "name": "stdout",
     "output_type": "stream",
     "text": [
      "4 is not a prime\n"
     ]
    }
   ],
   "source": [
    "\n",
    "\n",
    "num1=int(input(\"Enter a number:\"))\n",
    "if num1 > 1:\n",
    "    for i in range(2,num1):\n",
    "        if(num1%i)==0:\n",
    "            print(num1, 'is not a prime')\n",
    "            break\n",
    "    else:\n",
    "         print(num1, 'is a prime number')\n",
    "else:\n",
    "    print(\"number is less than 1\")"
   ]
  },
  {
   "cell_type": "code",
   "execution_count": 21,
   "id": "6e3f0859-8ec0-40f3-b227-eb0eae18955f",
   "metadata": {},
   "outputs": [
    {
     "name": "stdin",
     "output_type": "stream",
     "text": [
      "Enter a number: 1\n",
      "Enter a number: 10\n"
     ]
    },
    {
     "name": "stdout",
     "output_type": "stream",
     "text": [
      "2 is a prime number\n",
      "3 is a prime number\n",
      "4 is not a prime\n",
      "5 is a prime number\n",
      "6 is not a prime\n",
      "7 is a prime number\n",
      "8 is not a prime\n",
      "9 is not a prime\n"
     ]
    },
    {
     "data": {
      "text/plain": [
       "[2, 3, 5, 7]"
      ]
     },
     "execution_count": 21,
     "metadata": {},
     "output_type": "execute_result"
    }
   ],
   "source": [
    "#Write a python program to print all prime numbers in an interval of 1-10\n",
    "\n",
    "listprime = []\n",
    "num1 = int(input(\"Enter a number:\"))\n",
    "num2 = int(input(\"Enter a number:\"))\n",
    "for num in range(num1, num2):\n",
    "    if num > 1:\n",
    "        for i in range(2,num):\n",
    "            if (num%i)==0:\n",
    "                print(num, 'is not a prime')\n",
    "                break\n",
    "        else:\n",
    "            print(num, 'is a prime number')\n",
    "            listprime.append(num)\n",
    "listprime"
   ]
  },
  {
   "cell_type": "code",
   "execution_count": 37,
   "id": "37911292-e127-45e0-9d61-44bd53b6e339",
   "metadata": {},
   "outputs": [
    {
     "name": "stdin",
     "output_type": "stream",
     "text": [
      "Enter a number: 5\n"
     ]
    },
    {
     "name": "stdout",
     "output_type": "stream",
     "text": [
      "120\n"
     ]
    }
   ],
   "source": [
    "#Write a python program to find the factorial of a number.\n",
    "\n",
    "num=int(input(\"Enter a number:\"))\n",
    "fact = 1\n",
    "if num<0:\n",
    "    print(\"Can not calculate factorial\")\n",
    "elif num==0:\n",
    "    print(\"Factorial for zero is 1\")\n",
    "else:\n",
    "    for i in range(1,num+1):\n",
    "        fact = fact*i\n",
    "    print(fact)\n"
   ]
  },
  {
   "cell_type": "code",
   "execution_count": 39,
   "id": "6f549f38-624a-46d3-a5f5-bf64207cdb97",
   "metadata": {},
   "outputs": [
    {
     "name": "stdout",
     "output_type": "stream",
     "text": [
      "5*1=5\n",
      "5*2=10\n",
      "5*3=15\n",
      "5*4=20\n",
      "5*5=25\n",
      "5*6=30\n",
      "5*7=35\n",
      "5*8=40\n",
      "5*9=45\n",
      "5*10=50\n"
     ]
    }
   ],
   "source": [
    "#Write a python program to display the multiplication table.\n",
    "\n",
    "num=5\n",
    "for i in range(1,11):\n",
    "    print(\"{}*{}={}\".format(num,i,num*i))"
   ]
  },
  {
   "cell_type": "code",
   "execution_count": null,
   "id": "3deabc23-4c8c-4c87-a9f9-b0774f8e0a33",
   "metadata": {},
   "outputs": [],
   "source": []
  }
 ],
 "metadata": {
  "kernelspec": {
   "display_name": "Python [conda env:base] *",
   "language": "python",
   "name": "conda-base-py"
  },
  "language_info": {
   "codemirror_mode": {
    "name": "ipython",
    "version": 3
   },
   "file_extension": ".py",
   "mimetype": "text/x-python",
   "name": "python",
   "nbconvert_exporter": "python",
   "pygments_lexer": "ipython3",
   "version": "3.12.7"
  }
 },
 "nbformat": 4,
 "nbformat_minor": 5
}
