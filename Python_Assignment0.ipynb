{
 "cells": [
  {
   "cell_type": "code",
   "execution_count": 13,
   "id": "88602e56-5164-44d8-bc78-4efc2140b325",
   "metadata": {
    "editable": true,
    "slideshow": {
     "slide_type": "subslide"
    },
    "tags": []
   },
   "outputs": [
    {
     "name": "stdout",
     "output_type": "stream",
     "text": [
      "Hello\n"
     ]
    }
   ],
   "source": [
    " # String slicing - Fetch all characters from 0 to 5 index location\n",
    "\n",
    "str1 = \"Hello World\"\n",
    "(print(str1[0:5]))"
   ]
  },
  {
   "cell_type": "code",
   "execution_count": 19,
   "id": "25261f06-becb-4d87-abcd-886c5456042f",
   "metadata": {},
   "outputs": [
    {
     "name": "stdout",
     "output_type": "stream",
     "text": [
      "World\n"
     ]
    }
   ],
   "source": [
    "str1 = \"Hello World\"\n",
    "(print(str1[6:12]))"
   ]
  },
  {
   "cell_type": "code",
   "execution_count": 21,
   "id": "244bc92f-3f42-4214-9e82-1a7f9dc8129b",
   "metadata": {},
   "outputs": [
    {
     "name": "stdout",
     "output_type": "stream",
     "text": [
      " World\n"
     ]
    }
   ],
   "source": [
    "str1 = \"Hello World\"\n",
    "(print(str1[-6:]))"
   ]
  },
  {
   "cell_type": "code",
   "execution_count": 23,
   "id": "14fc1956-61b0-41be-bb0f-8a39860ad496",
   "metadata": {},
   "outputs": [
    {
     "name": "stdout",
     "output_type": "stream",
     "text": [
      "Hello\n"
     ]
    }
   ],
   "source": [
    "str1 = \"Hello World\"\n",
    "(print(str1[:-6]))"
   ]
  },
  {
   "cell_type": "code",
   "execution_count": 25,
   "id": "ff613902-a840-4653-94dc-b881720f49e2",
   "metadata": {},
   "outputs": [
    {
     "name": "stdout",
     "output_type": "stream",
     "text": [
      "Hello Python\n"
     ]
    }
   ],
   "source": [
    "#String Indexing\n",
    "str = 'Hello Python'\n",
    "print(str)\n"
   ]
  },
  {
   "cell_type": "code",
   "execution_count": 27,
   "id": "ab3e98ac-937b-4c1c-b746-59fd85d3de94",
   "metadata": {},
   "outputs": [
    {
     "name": "stdout",
     "output_type": "stream",
     "text": [
      "H\n"
     ]
    }
   ],
   "source": [
    "(print(str[0]))"
   ]
  },
  {
   "cell_type": "code",
   "execution_count": 29,
   "id": "7573d77e-227a-469b-8a93-84c95066426f",
   "metadata": {},
   "outputs": [
    {
     "name": "stdout",
     "output_type": "stream",
     "text": [
      "e\n"
     ]
    }
   ],
   "source": [
    "(print(str[1]))"
   ]
  },
  {
   "cell_type": "code",
   "execution_count": 31,
   "id": "6db4af13-f82f-4b83-8b64-a214c08f561c",
   "metadata": {},
   "outputs": [
    {
     "name": "stdout",
     "output_type": "stream",
     "text": [
      "l\n"
     ]
    }
   ],
   "source": [
    "(print(str[2]))"
   ]
  },
  {
   "cell_type": "code",
   "execution_count": 33,
   "id": "b40f7408-2419-4f38-a380-3f4101a252cf",
   "metadata": {},
   "outputs": [
    {
     "name": "stdout",
     "output_type": "stream",
     "text": [
      "l\n"
     ]
    }
   ],
   "source": [
    "(print(str[3]))"
   ]
  },
  {
   "cell_type": "code",
   "execution_count": 35,
   "id": "fba5ed53-2684-4326-9434-741c3b112fe9",
   "metadata": {},
   "outputs": [
    {
     "name": "stdout",
     "output_type": "stream",
     "text": [
      "o\n"
     ]
    }
   ],
   "source": [
    "(print(str[1]))"
   ]
  },
  {
   "cell_type": "code",
   "execution_count": 37,
   "id": "02adf1c9-513b-40f0-9d97-22fe711fdc14",
   "metadata": {},
   "outputs": [
    {
     "name": "stdout",
     "output_type": "stream",
     "text": [
      "n\n"
     ]
    }
   ],
   "source": [
    "(print(str[-1]))\n"
   ]
  },
  {
   "cell_type": "code",
   "execution_count": 39,
   "id": "57a8eca8-67c9-48cd-a991-62777f498334",
   "metadata": {},
   "outputs": [
    {
     "name": "stdout",
     "output_type": "stream",
     "text": [
      "o\n"
     ]
    }
   ],
   "source": [
    "(print(str[-2]))\n"
   ]
  },
  {
   "cell_type": "code",
   "execution_count": 41,
   "id": "518706bf-b5ad-4319-82bd-52d65712ccc6",
   "metadata": {},
   "outputs": [
    {
     "name": "stdout",
     "output_type": "stream",
     "text": [
      "h\n"
     ]
    }
   ],
   "source": [
    "(print(str[-3]))\n"
   ]
  },
  {
   "cell_type": "code",
   "execution_count": null,
   "id": "e5a78248-2ac8-45ef-80cb-0ca64f1e0969",
   "metadata": {},
   "outputs": [],
   "source": []
  }
 ],
 "metadata": {
  "kernelspec": {
   "display_name": "Python [conda env:base] *",
   "language": "python",
   "name": "conda-base-py"
  },
  "language_info": {
   "codemirror_mode": {
    "name": "ipython",
    "version": 3
   },
   "file_extension": ".py",
   "mimetype": "text/x-python",
   "name": "python",
   "nbconvert_exporter": "python",
   "pygments_lexer": "ipython3",
   "version": "3.12.7"
  }
 },
 "nbformat": 4,
 "nbformat_minor": 5
}
