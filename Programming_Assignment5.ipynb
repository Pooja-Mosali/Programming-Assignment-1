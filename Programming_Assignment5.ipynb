{
 "cells": [
  {
   "cell_type": "code",
   "execution_count": 1,
   "id": "557c36a2-5491-4b3a-b6e9-feb02302c94f",
   "metadata": {},
   "outputs": [
    {
     "name": "stdout",
     "output_type": "stream",
     "text": [
      "2 4 6 8 10 "
     ]
    }
   ],
   "source": [
    "#Write a python program to print the first 10 even numbers.\n",
    "\n",
    "num=10\n",
    "i=1\n",
    "while i<=num:\n",
    "    if i%2==0:\n",
    "        print(i, end=' ')\n",
    "    i+=1\n",
    "    "
   ]
  },
  {
   "cell_type": "code",
   "execution_count": 3,
   "id": "4bc85ae1-c920-4d93-be80-198a9765554a",
   "metadata": {},
   "outputs": [
    {
     "name": "stdout",
     "output_type": "stream",
     "text": [
      "1 3 5 7 9 "
     ]
    }
   ],
   "source": [
    "#Write a python program to print the first 10 Odd numbers.\n",
    "\n",
    "num=10\n",
    "i=1\n",
    "while i<=num:\n",
    "    if i%2!=0:\n",
    "        print(i, end=' ')\n",
    "    i+=1\n"
   ]
  },
  {
   "cell_type": "code",
   "execution_count": 5,
   "id": "30a57e58-78a5-44cf-a4b3-1beec652c48a",
   "metadata": {},
   "outputs": [
    {
     "name": "stdout",
     "output_type": "stream",
     "text": [
      "5 4 3 2 1 "
     ]
    }
   ],
   "source": [
    "#Write a python program to print Reverse of a first 5 natural numbers.\n",
    "\n",
    "n=5\n",
    "i=n\n",
    "while i>=1:\n",
    "    print(i, end=' ')\n",
    "    i-=1\n",
    "    "
   ]
  },
  {
   "cell_type": "code",
   "execution_count": 29,
   "id": "83971de1-7ded-4b2a-9104-526f71b21265",
   "metadata": {},
   "outputs": [
    {
     "name": "stdout",
     "output_type": "stream",
     "text": [
      "654\n"
     ]
    }
   ],
   "source": [
    "#Write a python program to print reverse number for a given input.\n",
    "\n",
    "num = 456\n",
    "rev = 0\n",
    "\n",
    "while num > 0:\n",
    "    rem = num % 10\n",
    "    rev = rev * 10 + rem\n",
    "    num = num // 10\n",
    "\n",
    "print(rev)"
   ]
  },
  {
   "cell_type": "code",
   "execution_count": 31,
   "id": "f071f872-f7fd-4a19-b90b-8481b9957ed9",
   "metadata": {},
   "outputs": [
    {
     "name": "stdout",
     "output_type": "stream",
     "text": [
      "Total: 30\n"
     ]
    }
   ],
   "source": [
    "#Write a python program to print the first 10 sum of even numbers.\n",
    "\n",
    "sum = 0\n",
    "i = 2\n",
    "n = 10\n",
    "while i <= n:\n",
    "    if i % 2 == 0:\n",
    "        sum = sum + i\n",
    "        i = i + 2\n",
    "\n",
    "print(\"Total:\", sum)"
   ]
  },
  {
   "cell_type": "code",
   "execution_count": 33,
   "id": "2fb05937-154b-447e-baa2-f6b8ab9ebdd3",
   "metadata": {},
   "outputs": [
    {
     "name": "stdout",
     "output_type": "stream",
     "text": [
      "Total: 25\n"
     ]
    }
   ],
   "source": [
    "#Write a python program to print the first 10 sum of odd numbers.\n",
    "\n",
    "sum = 0\n",
    "i = 1\n",
    "n = 10\n",
    "while i <= n:\n",
    "    if i % 2 != 0:\n",
    "        sum = sum + i\n",
    "        i = i + 2\n",
    "\n",
    "print(\"Total:\", sum)"
   ]
  },
  {
   "cell_type": "code",
   "execution_count": null,
   "id": "33635f76-c71b-40ab-8756-e7e41f4e645d",
   "metadata": {},
   "outputs": [],
   "source": []
  }
 ],
 "metadata": {
  "kernelspec": {
   "display_name": "Python [conda env:base] *",
   "language": "python",
   "name": "conda-base-py"
  },
  "language_info": {
   "codemirror_mode": {
    "name": "ipython",
    "version": 3
   },
   "file_extension": ".py",
   "mimetype": "text/x-python",
   "name": "python",
   "nbconvert_exporter": "python",
   "pygments_lexer": "ipython3",
   "version": "3.12.7"
  }
 },
 "nbformat": 4,
 "nbformat_minor": 5
}
