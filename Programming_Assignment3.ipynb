{
 "cells": [
  {
   "cell_type": "code",
   "execution_count": 5,
   "id": "9127194d-71ee-42be-9940-3d055f62f46b",
   "metadata": {},
   "outputs": [
    {
     "name": "stdout",
     "output_type": "stream",
     "text": [
      "First element: 10\n",
      "Last element: 50\n"
     ]
    }
   ],
   "source": [
    "#Create and Access Elements in a Tuple\n",
    "\n",
    "my_tuple = (10,20,30,40,50)\n",
    "print(\"First element:\", my_tuple[0]) \n",
    "print(\"Last element:\", my_tuple[-1])  \n"
   ]
  },
  {
   "cell_type": "code",
   "execution_count": 7,
   "id": "1730a8ab-ac84-48fc-ae15-66a3611ffd68",
   "metadata": {},
   "outputs": [
    {
     "name": "stdout",
     "output_type": "stream",
     "text": [
      "(1, 2, 3, 4, 5, 6)\n"
     ]
    }
   ],
   "source": [
    "#Tuple  Addition Operation\n",
    "\n",
    "tuple1 = (1, 2, 3)\n",
    "tuple2 = (4, 5, 6)\n",
    "result = tuple1 + tuple2\n",
    "print(result)\n"
   ]
  },
  {
   "cell_type": "code",
   "execution_count": 9,
   "id": "e632e782-6be5-4240-b650-8f5c2409543a",
   "metadata": {},
   "outputs": [
    {
     "name": "stdout",
     "output_type": "stream",
     "text": [
      "(1, 2, 3, 1, 2, 3)\n"
     ]
    }
   ],
   "source": [
    "#Tuple Repeated Operations\n",
    "\n",
    "tuple1 = (1, 2, 3)\n",
    "repeated = tuple1 * 2\n",
    "print(repeated)"
   ]
  },
  {
   "cell_type": "code",
   "execution_count": 11,
   "id": "928ad776-7ad3-452d-8fe4-e71e7d54c2fe",
   "metadata": {},
   "outputs": [
    {
     "name": "stdout",
     "output_type": "stream",
     "text": [
      "Yes, 'banana' is in the tuple.\n"
     ]
    }
   ],
   "source": [
    "#Check Membership in a Tuple\n",
    "\n",
    "my_tuple = ('apple', 'banana', 'cherry')\n",
    "\n",
    "if 'banana' in my_tuple:\n",
    "    print(\"Yes, 'banana' is in the tuple.\")  \n",
    "else:\n",
    "    print(\"No, 'banana' is not in the tuple.\")"
   ]
  },
  {
   "cell_type": "code",
   "execution_count": 17,
   "id": "8824d47e-34b5-45bc-af1e-c4fa46dc5d1e",
   "metadata": {},
   "outputs": [
    {
     "name": "stdin",
     "output_type": "stream",
     "text": [
      " (1,2,3,4,5,6,7)\n"
     ]
    },
    {
     "name": "stdout",
     "output_type": "stream",
     "text": [
      "7\n"
     ]
    }
   ],
   "source": [
    "#Write a program to print length of the given tuple.?\n",
    "\n",
    "input_tuple=eval(input())\n",
    "print(len(input_tuple))"
   ]
  },
  {
   "cell_type": "code",
   "execution_count": 23,
   "id": "982543d2-8602-4a3e-a390-4ed23aa62efc",
   "metadata": {},
   "outputs": [
    {
     "name": "stdout",
     "output_type": "stream",
     "text": [
      "Maximum value: 50\n",
      "Minimum value: 10\n"
     ]
    }
   ],
   "source": [
    "#Find Maximum, and Minimum\n",
    "\n",
    "# Tuple operations\n",
    "numbers = (10, 20, 30, 40, 50)\n",
    "\n",
    "print(\"Maximum value:\", max(numbers))   \n",
    "print(\"Minimum value:\", min(numbers))  "
   ]
  },
  {
   "cell_type": "code",
   "execution_count": null,
   "id": "dbfaf532-e22e-4d0d-a922-6090ff7f05a6",
   "metadata": {},
   "outputs": [],
   "source": []
  }
 ],
 "metadata": {
  "kernelspec": {
   "display_name": "Python [conda env:base] *",
   "language": "python",
   "name": "conda-base-py"
  },
  "language_info": {
   "codemirror_mode": {
    "name": "ipython",
    "version": 3
   },
   "file_extension": ".py",
   "mimetype": "text/x-python",
   "name": "python",
   "nbconvert_exporter": "python",
   "pygments_lexer": "ipython3",
   "version": "3.12.7"
  }
 },
 "nbformat": 4,
 "nbformat_minor": 5
}
