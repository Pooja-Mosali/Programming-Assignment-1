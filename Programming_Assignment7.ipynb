{
 "cells": [
  {
   "cell_type": "code",
   "execution_count": 1,
   "id": "a5283ec0-1ecc-4c20-8e8e-e94a5b44bf3b",
   "metadata": {},
   "outputs": [
    {
     "name": "stdout",
     "output_type": "stream",
     "text": [
      "Not eligible for voting\n"
     ]
    }
   ],
   "source": [
    "#Write a program to check whether a person is eligible for voting (or) not.\n",
    "\n",
    "person  =  13\n",
    "limit   =  18\n",
    "if person >= limit:\n",
    "    print(\"Eligible for voting\")\n",
    "else:\n",
    "    print(\"Not eligible for voting\")\n"
   ]
  },
  {
   "cell_type": "code",
   "execution_count": 3,
   "id": "05fa4c01-fd86-4ede-9ebf-9d4d381d6905",
   "metadata": {},
   "outputs": [
    {
     "name": "stdout",
     "output_type": "stream",
     "text": [
      "Small value is 5\n"
     ]
    }
   ],
   "source": [
    "#Write a python program to find the smallest of two numbers by using if-else condition.\n",
    "\n",
    "a = 5\n",
    "b = 55\n",
    "if a < b:\n",
    "    small = a\n",
    "else:\n",
    "    small = b\n",
    "print(\"Small value is\", small)"
   ]
  },
  {
   "cell_type": "code",
   "execution_count": 5,
   "id": "44ef2c5b-0f36-4b58-8492-58e463aabd75",
   "metadata": {},
   "outputs": [
    {
     "name": "stdout",
     "output_type": "stream",
     "text": [
      "Converted case of input char: A\n"
     ]
    }
   ],
   "source": [
    "#Write a program to enter a character (a to z) if the entered character is in lower convert into upper and viceversa.\n",
    "\n",
    "char = \"a\" \n",
    "if char >= 'A' and char <='Z':\n",
    "    char=char.lower()\n",
    "    print(\"Converted case of input char:\", char)\n",
    "else:\n",
    "    char=char.upper()\n",
    "    print(\"Converted case of input char:\", char)"
   ]
  },
  {
   "cell_type": "code",
   "execution_count": 7,
   "id": "8824175d-1da4-47e9-ae24-70ccb08f6d11",
   "metadata": {},
   "outputs": [
    {
     "name": "stdout",
     "output_type": "stream",
     "text": [
      "Positive number\n"
     ]
    }
   ],
   "source": [
    "#Write a python program to check whether the given number is a positive, negative (or) a zero.\n",
    "\n",
    "num=52\n",
    "if num>0:\n",
    "    print(\"Positive number\")\n",
    "elif num==0:\n",
    "    print(\"Zero number\")\n",
    "else:\n",
    "    print(\"Negative number\")"
   ]
  },
  {
   "cell_type": "code",
   "execution_count": 9,
   "id": "63f7f825-19df-4482-8220-bd6f9d34e303",
   "metadata": {},
   "outputs": [
    {
     "name": "stdout",
     "output_type": "stream",
     "text": [
      "Zero number\n"
     ]
    }
   ],
   "source": [
    "#Write a python program to check whether the given number is a positive, negative (or) a zero.\n",
    "\n",
    "num=0\n",
    "if num>0:\n",
    "    print(\"Positive number\")\n",
    "elif num==0:\n",
    "    print(\"Zero number\")\n",
    "else:\n",
    "    print(\"Negative number\")"
   ]
  },
  {
   "cell_type": "code",
   "execution_count": null,
   "id": "418640ad-9c57-4f6b-ad98-ececd5c15a4d",
   "metadata": {},
   "outputs": [],
   "source": []
  }
 ],
 "metadata": {
  "kernelspec": {
   "display_name": "Python [conda env:base] *",
   "language": "python",
   "name": "conda-base-py"
  },
  "language_info": {
   "codemirror_mode": {
    "name": "ipython",
    "version": 3
   },
   "file_extension": ".py",
   "mimetype": "text/x-python",
   "name": "python",
   "nbconvert_exporter": "python",
   "pygments_lexer": "ipython3",
   "version": "3.12.7"
  }
 },
 "nbformat": 4,
 "nbformat_minor": 5
}
