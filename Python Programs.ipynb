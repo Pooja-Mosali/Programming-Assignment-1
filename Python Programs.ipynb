{
 "cells": [
  {
   "cell_type": "code",
   "execution_count": 1,
   "id": "1c2cac33-afa8-4fd6-be66-2b54470d237d",
   "metadata": {},
   "outputs": [
    {
     "name": "stdout",
     "output_type": "stream",
     "text": [
      "Hello World\n"
     ]
    }
   ],
   "source": [
    "# Write a python program to print Hello World.\n",
    "print(\"Hello World\")"
   ]
  },
  {
   "cell_type": "code",
   "execution_count": 9,
   "id": "0ead4c0a-b1c7-4499-9fad-1e8ee6ad7313",
   "metadata": {},
   "outputs": [
    {
     "name": "stdout",
     "output_type": "stream",
     "text": [
      "result: 10\n"
     ]
    }
   ],
   "source": [
    "# Write a python program to print Addition of Two numbers\n",
    "\n",
    "a=5\n",
    "b=5\n",
    "result= a+b\n",
    "print(\"result:\",result)"
   ]
  },
  {
   "cell_type": "code",
   "execution_count": 5,
   "id": "4b8b88e0-1d1a-4040-9c27-5ab676fd2b05",
   "metadata": {},
   "outputs": [
    {
     "name": "stdin",
     "output_type": "stream",
     "text": [
      "Enter the value for a: 7\n",
      "Enter the value for b: 3\n"
     ]
    },
    {
     "name": "stdout",
     "output_type": "stream",
     "text": [
      "7\n"
     ]
    }
   ],
   "source": [
    "a = 7\n",
    "b =in\n",
    "print(max(a,b))"
   ]
  },
  {
   "cell_type": "code",
   "execution_count": 7,
   "id": "1946d6d0-bba6-4823-b73f-a8825335e7dd",
   "metadata": {},
   "outputs": [
    {
     "name": "stdin",
     "output_type": "stream",
     "text": [
      "Enter the value for a: 7\n",
      "Enter the value for b: 3\n"
     ]
    },
    {
     "name": "stdout",
     "output_type": "stream",
     "text": [
      "3\n"
     ]
    }
   ],
   "source": [
    "a =int(input(\"Enter the value for a:\"))\n",
    "b =int(input(\"Enter the value for b:\"))\n",
    "print(min(a,b))"
   ]
  },
  {
   "cell_type": "code",
   "execution_count": null,
   "id": "3f9a6117-f7d6-4870-8496-75f60bf17fa2",
   "metadata": {},
   "outputs": [],
   "source": []
  }
 ],
 "metadata": {
  "kernelspec": {
   "display_name": "Python [conda env:base] *",
   "language": "python",
   "name": "conda-base-py"
  },
  "language_info": {
   "codemirror_mode": {
    "name": "ipython",
    "version": 3
   },
   "file_extension": ".py",
   "mimetype": "text/x-python",
   "name": "python",
   "nbconvert_exporter": "python",
   "pygments_lexer": "ipython3",
   "version": "3.12.7"
  }
 },
 "nbformat": 4,
 "nbformat_minor": 5
}
